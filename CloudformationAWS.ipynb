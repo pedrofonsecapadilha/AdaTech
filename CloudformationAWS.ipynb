{
 "cells": [
  {
   "cell_type": "markdown",
   "metadata": {},
   "source": [
    "# Cloudformation AWS\n",
    "\n",
    "No curso \"Cloudformation AWS\", oferecemos uma compreensão abrangente da computação em nuvem, com foco nas soluções da Amazon Web Services (AWS). Iniciamos com uma visão geral das capacidades da AWS e, em seguida, nos aprofundamos no AWS CloudFormation, uma ferramenta essencial para a implantação e gerenciamento de infraestrutura como código. Ao final do curso, você, aluno, estará apto a projetar, implementar e gerenciar ambientes de nuvem aproveitando ao máximo os recursos da AWS."
   ]
  },
  {
   "cell_type": "markdown",
   "metadata": {},
   "source": [
    "## Aula 01 - Computação em Nuvem\n",
    "\n",
    "Professora: Renata Alves\n",
    "\n",
    "On Premisse X Cloud\n",
    "\n",
    "TOP 3 - Nuvem\n",
    " - AWS\n",
    " - Microsoft Azure\n",
    " - Google Cloud\n",
    "\n",
    "On-Site x IASS x PASS x SAAS\n",
    "\n",
    "![imagem01](Imagens/IASS_PASS_SAAS.png)"
   ]
  },
  {
   "cell_type": "markdown",
   "metadata": {},
   "source": [
    "## Aula 02 - Overview AWS\n",
    "\n",
    "Possui mais de 200 serviços - Dica: usar a documentação.\n",
    "\n",
    "Formas de Interação:\n",
    " - AWS Console\n",
    " - AWS SDK\n",
    " - AWS Cli"
   ]
  },
  {
   "cell_type": "markdown",
   "metadata": {},
   "source": [
    "## Aula 03 - AWS Cloudformation\n",
    "\n",
    "IaC - Infraestrutura como Código\n",
    " - AWS CloudFormation\n",
    " - Azure Resource Manage\n",
    " - Google Cloud Deployment Manager\n",
    " - Terraform (Hashicorp)\n",
    "\n",
    "AWS Cloudformation\n",
    "- Cria e Gerencia sua infraestrutura como código dentro da AWS\n",
    "- Só concluí com sucesso se todas as etapas forem aprovadas"
   ]
  },
  {
   "cell_type": "markdown",
   "metadata": {},
   "source": [
    "## Aula 04 - Interação com AWS Cloudformation\n",
    "\n",
    "Stack - Pilhas de recursos\n",
    "\n",
    "- Template is ready\n",
    "- Use a sample template\n",
    "- **Create template in Designer**\n",
    "\n",
    "Formato de Interação:\n",
    "- JSON\n",
    "- **YAML**"
   ]
  },
  {
   "cell_type": "markdown",
   "metadata": {},
   "source": [
    "## Aula 05 - Templates\n",
    "\n",
    "Template Estático X Template Dinâmico  \n",
    "Referências"
   ]
  },
  {
   "cell_type": "markdown",
   "metadata": {},
   "source": [
    "## Aula 06 - Criando um servidor EC2 utilizando Cloudformation\n",
    "\n",
    "Amazon Elastic Compute Cloud - Amazon EC2  \n",
    "Amazon Marketplace - Venda de serviços gerais para clientes AWS (Só se atentar aos custos!!!)\n",
    "\n",
    "Criou 2 Stacks (Instâncias):  \n",
    "1- Estático  \n",
    "2- Dinâmico"
   ]
  },
  {
   "cell_type": "markdown",
   "metadata": {},
   "source": [
    "## Aula 07 - Criando um balanceador de carga utilizando Cloudformation\n",
    "\n",
    "Balanceamento de Carga - Varia a quantidade de instâncias de acordo com o \"uso\"\n",
    "\n",
    "Benefícios:\n",
    " - Disponibilidade das aplicações\n",
    " - Escalabilidade de aplicações\n",
    " - Melhoria de performance da aplicação\n",
    "\n",
    "**AMAZON ELASTIC LOAD BALANCING**"
   ]
  },
  {
   "cell_type": "markdown",
   "metadata": {},
   "source": [
    "## Aula 08 - Criando um Auto Scaling utilizando Cloudformation\n",
    "\n",
    "Escalabilidade - **AWS AUTO SCALING**\n",
    "\n",
    "Tem que se criar o Template (My Launch Template) juntamente com o Auto Scaling"
   ]
  },
  {
   "cell_type": "markdown",
   "metadata": {},
   "source": [
    "## Aula 09 - Criando um banco de dados utilizando Cloudformation\n",
    "\n",
    "**Amazon RDS** - Serviço de Banco de Dados Relacional da AWS\n",
    "\n",
    "Mecanismos:\n",
    "- Amazon Aurora compatível com MySQL\n",
    "- Amazon Aurora compatível com PostgreSQL\n",
    "- MySQL\n",
    "- MariaDB\n",
    "- PostgreSQL\n",
    "- Oracle\n",
    "- SQL Server"
   ]
  },
  {
   "cell_type": "markdown",
   "metadata": {},
   "source": [
    "## Aula 10 - Criando uma infraestrutura completa\n",
    "\n",
    "### Template 01\n",
    "\n",
    "- Amazon EC2\n",
    "- Amazon Elastic Load Balancing\n",
    "- AWS Security Group\n",
    "\n",
    "### Template 02\n",
    "\n",
    "- Amazon Elastic Load Balancing\n",
    "- AWS Auto Scaling\n",
    "- AWS Security Group\n"
   ]
  }
 ],
 "metadata": {
  "kernelspec": {
   "display_name": "Python 3",
   "language": "python",
   "name": "python3"
  },
  "language_info": {
   "name": "python",
   "version": "3.8.10"
  }
 },
 "nbformat": 4,
 "nbformat_minor": 2
}
