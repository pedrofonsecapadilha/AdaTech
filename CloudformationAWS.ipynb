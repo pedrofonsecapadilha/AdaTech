{
 "cells": [
  {
   "cell_type": "markdown",
   "metadata": {},
   "source": [
    "# Cloudformation AWS\n",
    "\n",
    "No curso \"Cloudformation AWS\", oferecemos uma compreensão abrangente da computação em nuvem, com foco nas soluções da Amazon Web Services (AWS). Iniciamos com uma visão geral das capacidades da AWS e, em seguida, nos aprofundamos no AWS CloudFormation, uma ferramenta essencial para a implantação e gerenciamento de infraestrutura como código. Ao final do curso, você, aluno, estará apto a projetar, implementar e gerenciar ambientes de nuvem aproveitando ao máximo os recursos da AWS."
   ]
  },
  {
   "cell_type": "markdown",
   "metadata": {},
   "source": [
    "## Aula 01 - Computação em Nuvem\n",
    "\n",
    "Professora: Renata Alves\n",
    "\n",
    "On Premisse X Cloud\n",
    "\n",
    "TOP 3 - Nuvem\n",
    " - AWS\n",
    " - Microsoft Azure\n",
    " - Google Cloud\n",
    "\n",
    "On-Site x IASS x PASS x SAAS\n",
    "\n",
    "![imagem01](Imagens/IASS_PASS_SAAS.png)"
   ]
  },
  {
   "cell_type": "markdown",
   "metadata": {},
   "source": [
    "## Aula 02 - Overview AWS"
   ]
  }
 ],
 "metadata": {
  "kernelspec": {
   "display_name": "Python 3",
   "language": "python",
   "name": "python3"
  },
  "language_info": {
   "name": "python",
   "version": "3.8.10"
  }
 },
 "nbformat": 4,
 "nbformat_minor": 2
}
